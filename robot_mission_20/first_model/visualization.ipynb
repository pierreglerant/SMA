{
 "cells": [
  {
   "cell_type": "code",
   "execution_count": 1,
   "metadata": {},
   "outputs": [
    {
     "data": {
      "application/vnd.jupyter.widget-view+json": {
       "model_id": "5508e26a60cb40bea87391fc6d0e7990",
       "version_major": 2,
       "version_minor": 0
      },
      "text/html": [
       "Cannot show widget. You probably want to rerun the code cell above (<i>Click in the code cell, and press Shift+Enter <kbd>⇧</kbd>+<kbd>↩</kbd></i>)."
      ],
      "text/plain": [
       "Cannot show ipywidgets in text"
      ]
     },
     "metadata": {},
     "output_type": "display_data"
    }
   ],
   "source": [
    "import solara\n",
    "import mesa\n",
    "from mesa.visualization import SolaraViz, make_space_component\n",
    "from model import RobotMission\n",
    "from agents import RobotAgent\n",
    "from objects import WasteAgent, RadioactivityAgent\n",
    "\n",
    "def robot_agent_portrayal(agent):\n",
    "    \n",
    "    if isinstance(agent,RobotAgent):\n",
    "        return {\n",
    "            \"color\": \"blue\",\n",
    "            \"size\":100,\n",
    "            \n",
    "        }\n",
    "    \n",
    "    if isinstance(agent, RadioactivityAgent):\n",
    "        return {\n",
    "            \"color\": \"#00FF0080\",\n",
    "            \"size\": 500,\n",
    "            \"marker\": 's',\n",
    "        }\n",
    "    \n",
    "    if isinstance(agent, WasteAgent):\n",
    "        return {\n",
    "            \"color\": \"black\",\n",
    "            \"size\": 10,\n",
    "            \"marker\": \"o\"\n",
    "        }\n",
    "    \n",
    "    return {\"color\": \"yellow\", \"size\": 1}\n",
    "\n",
    "model_params = {\n",
    "    \"n_zone\": {\"value\":1},\n",
    "    \"n_agents\": {\"value\":1},\n",
    "    \"n_waste\": {\"value\":1},\n",
    "    \"w\": 10,\n",
    "    \"h\": 10\n",
    "}\n",
    "\n",
    "mod = RobotMission(n_zone=1,n_agents=1,n_waste=1,h=10,w=10)\n",
    "\n",
    "SpaceGraph = make_space_component(robot_agent_portrayal)\n",
    "\n",
    "page = SolaraViz(\n",
    "    mod,\n",
    "    components=[SpaceGraph],\n",
    "    model_params=model_params)\n",
    "\n",
    "page"
   ]
  }
 ],
 "metadata": {
  "kernelspec": {
   "display_name": "Python 3",
   "language": "python",
   "name": "python3"
  },
  "language_info": {
   "codemirror_mode": {
    "name": "ipython",
    "version": 3
   },
   "file_extension": ".py",
   "mimetype": "text/x-python",
   "name": "python",
   "nbconvert_exporter": "python",
   "pygments_lexer": "ipython3",
   "version": "3.12.6"
  }
 },
 "nbformat": 4,
 "nbformat_minor": 2
}
